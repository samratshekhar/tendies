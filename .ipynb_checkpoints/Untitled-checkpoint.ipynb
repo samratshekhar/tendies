{
 "cells": [
  {
   "cell_type": "code",
   "execution_count": 284,
   "metadata": {},
   "outputs": [],
   "source": [
    "%matplotlib inline\n",
    "import pandas as pd"
   ]
  },
  {
   "cell_type": "code",
   "execution_count": 285,
   "metadata": {},
   "outputs": [],
   "source": [
    "df = pd.read_excel ('./Hexaware Tech.xlsx', sheet_name='Data Sheet', skiprows = range(1, 1))"
   ]
  },
  {
   "cell_type": "code",
   "execution_count": 286,
   "metadata": {},
   "outputs": [],
   "source": [
    "profitAndLoss = df.iloc[15:29, 1:].fillna(0)\n",
    "profitAndLoss.index = df.iloc[15:29, 0]\n",
    "profitAndLoss.columns = df.iloc[14, 1:]\n",
    "# profitAndLoss"
   ]
  },
  {
   "cell_type": "code",
   "execution_count": 287,
   "metadata": {},
   "outputs": [],
   "source": [
    "balanceSheet = df.iloc[55:70, 1:].fillna(0)\n",
    "balanceSheet.index = df.iloc[55:70, 0]\n",
    "balanceSheet.columns = df.iloc[54, 1:]\n",
    "# balanceSheet"
   ]
  },
  {
   "cell_type": "code",
   "execution_count": 288,
   "metadata": {},
   "outputs": [],
   "source": [
    "cashflow = df.iloc[80:83, 1:].fillna(0)\n",
    "cashflow.index = df.iloc[80:83, 0]\n",
    "cashflow.columns = df.iloc[79, 1:]\n",
    "# cashflow"
   ]
  },
  {
   "cell_type": "code",
   "execution_count": 289,
   "metadata": {},
   "outputs": [],
   "source": [
    "bottomline = df.iloc[88:92, 1:].fillna(0)\n",
    "bottomline.index = df.iloc[88:92, 0]\n",
    "bottomline.columns = df.iloc[79, 1:]\n",
    "# bottomline"
   ]
  },
  {
   "cell_type": "code",
   "execution_count": 290,
   "metadata": {},
   "outputs": [],
   "source": [
    "ev = (bottomline.loc['PRICE:'] * bottomline.loc[\"Adjusted Equity Shares in Cr\", :]) + balanceSheet.loc['Borrowings'] - balanceSheet.loc['Cash & Bank']"
   ]
  },
  {
   "cell_type": "code",
   "execution_count": 291,
   "metadata": {},
   "outputs": [
    {
     "data": {
      "text/plain": [
       "<matplotlib.axes._subplots.AxesSubplot at 0x118fb2190>"
      ]
     },
     "execution_count": 291,
     "metadata": {},
     "output_type": "execute_result"
    },
    {
     "data": {
      "image/png": "[encoded data removed]",
      "text/plain": [
       "<Figure size 432x288 with 1 Axes>"
      ]
     },
     "metadata": {
      "needs_background": "light"
     },
     "output_type": "display_data"
    }
   ],
   "source": [
    "ev.plot.line()"
   ]
  },
  {
   "cell_type": "code",
   "execution_count": null,
   "metadata": {},
   "outputs": [],
   "source": []
  }
 ],
 "metadata": {
  "kernelspec": {
   "display_name": "Python 3",
   "language": "python",
   "name": "python3"
  },
  "language_info": {
   "codemirror_mode": {
    "name": "ipython",
    "version": 3
   },
   "file_extension": ".py",
   "mimetype": "text/x-python",
   "name": "python",
   "nbconvert_exporter": "python",
   "pygments_lexer": "ipython3",
   "version": "3.7.6"
  }
 },
 "nbformat": 4,
 "nbformat_minor": 4
}
